{
 "cells": [
  {
   "cell_type": "code",
   "execution_count": 7,
   "metadata": {},
   "outputs": [
    {
     "data": {
      "text/plain": [
       "array([ 0.25117858,  0.25273497,  0.2541693 , ..., -0.085766  ,\n",
       "       -0.08872621, -0.09159486])"
      ]
     },
     "execution_count": 7,
     "metadata": {},
     "output_type": "execute_result"
    }
   ],
   "source": [
    "import numpy as np\n",
    "import soundfile as sf\n",
    "MIDIFROM = 24\n",
    "MIDITO = 108\n",
    "SKIP_SEC = 0.25\n",
    "HOWMUCH_SEC = 0.5\n",
    "WHOLETONE_SEC = 2\n",
    "howmanytones = MIDITO - MIDIFROM + 1\n",
    "tones = np.arange(MIDIFROM, MIDITO+1)\n",
    "s, Fs = sf.read('../klavir.wav')\n",
    "N = int(Fs * HOWMUCH_SEC)\n",
    "Nwholetone = int(Fs * WHOLETONE_SEC)\n",
    "xall = np.zeros((MIDITO+1, N))  # matrix with all tones - first signals empty,\n",
    "# but we have plenty of memory ...\n",
    "samplefrom = int(SKIP_SEC * Fs)\n",
    "sampleto = samplefrom + N\n",
    "for tone in tones:\n",
    "    x = s[samplefrom:sampleto]\n",
    "    x = x - np.mean(x)  # safer to center ...\n",
    "    xall[tone, :] = x\n",
    "    samplefrom += Nwholetone\n",
    "    sampleto += Nwholetone\n",
    "xall[24]"
   ]
  }
 ],
 "metadata": {
  "kernelspec": {
   "display_name": "Python 3.7.6 ('base')",
   "language": "python",
   "name": "python3"
  },
  "language_info": {
   "codemirror_mode": {
    "name": "ipython",
    "version": 3
   },
   "file_extension": ".py",
   "mimetype": "text/x-python",
   "name": "python",
   "nbconvert_exporter": "python",
   "pygments_lexer": "ipython3",
   "version": "3.7.6"
  },
  "orig_nbformat": 4,
  "vscode": {
   "interpreter": {
    "hash": "12d738f96725d1c1f433a1d40c5369c2dd6b861cec3a8aa29acd662c91ac2528"
   }
  }
 },
 "nbformat": 4,
 "nbformat_minor": 2
}
